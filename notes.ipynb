{
 "cells": [
  {
   "cell_type": "markdown",
   "metadata": {},
   "source": [
    "# Notes"
   ]
  },
  {
   "cell_type": "markdown",
   "metadata": {},
   "source": [
    "Random notes\n",
    "* sample random windows from the train data wtih duration the same as will be during the test inferences. Perhaps do selection preprocessing to detect actual bird sound (SAD models)\n",
    "* baseline: select only 4-5 rated audios (only 5?). Train simple classificator, build pipeline for training and evaluation\n",
    "* local_evaluation: create folds on the train dataset (?). Investigate how this is done in the public notebooks\n",
    "* model -- ConvNeXT? Read the paper\n",
    "* inference: 5 sec of audio, probs for all species\n",
    "* baseline: take first 5 sec of audio for train\n",
    "* As far as I know this competition have very unreliable LB, because soundscapes are from sources the model have never seen, so ~0.01 could be just the randomness of data (my exact same model with different random seed can have score diff of 0.03). However, using sigmoid rather than softmax pretty much always gave me a higher score for my codes. For me tuning up mixup helped because, like you said, it's a multi label problem but the training data are mostly single label.\n",
    "* binary cross-entropy \n",
    "* try to train on the data + landscape bg only and compare\n",
    "* https://www.kaggle.com/competitions/birdsong-recognition/discussion/183219\n",
    "* Try effnet b0/b1? Much faster inference. B0 + ensemble may be much more stable"
   ]
  },
  {
   "cell_type": "markdown",
   "metadata": {},
   "source": [
    "### Baseline"
   ]
  },
  {
   "cell_type": "markdown",
   "metadata": {},
   "source": [
    "1. Create datalodder\n",
    "2. Think about pipeline wav -> spec -> cv model -> head? \n",
    "3. Write lightning training \n",
    "4. Train \n",
    "\n",
    "### Baseline points:\n",
    "* train on first 5 sec of each ogg\n",
    "* convnext or efficientnet\n",
    "* melspecs with precomputation\n",
    "* softmax specie-wide (?)\n",
    "\n",
    "### Improvements:\n",
    "* softmax specie-wide (?)\n",
    "* add secondary labels\n",
    "* weak labels processing"
   ]
  },
  {
   "cell_type": "markdown",
   "metadata": {},
   "source": []
  }
 ],
 "metadata": {
  "kernelspec": {
   "display_name": ".venv",
   "language": "python",
   "name": "python3"
  },
  "language_info": {
   "codemirror_mode": {
    "name": "ipython",
    "version": 3
   },
   "file_extension": ".py",
   "mimetype": "text/x-python",
   "name": "python",
   "nbconvert_exporter": "python",
   "pygments_lexer": "ipython3",
   "version": "3.10.12"
  }
 },
 "nbformat": 4,
 "nbformat_minor": 2
}
